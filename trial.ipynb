{
 "cells": [
  {
   "cell_type": "code",
   "execution_count": 1,
   "metadata": {},
   "outputs": [],
   "source": [
    "import numpy as np\n",
    "from flask import Flask, request, jsonify, render_template\n",
    "import pickle\n",
    "import torch"
   ]
  },
  {
   "cell_type": "code",
   "execution_count": 2,
   "metadata": {},
   "outputs": [],
   "source": [
    "# # Loading model\n",
    "# model = torch.jit.load('model_scripted.pt', map_location= torch.device(\"cpu\"))\n",
    "# model.eval()"
   ]
  },
  {
   "cell_type": "code",
   "execution_count": 3,
   "metadata": {},
   "outputs": [],
   "source": [
    "# import __main__\n",
    "# setattr(__main__, 'MultipleRegression', model)\n",
    "# model = torch.load(os.path.join(parent_dir,\"<path to pickle>\"), map_location=torch.device(\"cpu\"))"
   ]
  },
  {
   "cell_type": "code",
   "execution_count": 4,
   "metadata": {},
   "outputs": [],
   "source": [
    "# model = pickle.load(open('model.pkl', 'rb'))\n",
    "# scaler = pickle.load(open('scalerx.pkl', 'rb'))\n",
    "# scaler1 = pickle.load(open('scalery.pkl', 'rb'))"
   ]
  },
  {
   "cell_type": "code",
   "execution_count": 5,
   "metadata": {},
   "outputs": [],
   "source": [
    "# a = torch.tensor(scaler.transform(torch.tensor([500]).reshape(-1,1)), dtype=torch.float32).to(device='cpu')\n",
    "# b = model(a)"
   ]
  },
  {
   "cell_type": "code",
   "execution_count": 6,
   "metadata": {},
   "outputs": [],
   "source": [
    "# b = b.detach().numpy()"
   ]
  },
  {
   "cell_type": "code",
   "execution_count": 7,
   "metadata": {},
   "outputs": [],
   "source": [
    "# print(scaler1.inverse_transform(b.reshape(-1,1)))"
   ]
  },
  {
   "cell_type": "code",
   "execution_count": 15,
   "metadata": {},
   "outputs": [],
   "source": [
    "from regression_model import MultipleRegression"
   ]
  },
  {
   "cell_type": "code",
   "execution_count": 16,
   "metadata": {},
   "outputs": [
    {
     "name": "stdout",
     "output_type": "stream",
     "text": [
      "cuda:0\n"
     ]
    }
   ],
   "source": [
    "device = torch.device(\"cuda:0\" if torch.cuda.is_available() else \"cpu\")\n",
    "print(device)"
   ]
  },
  {
   "cell_type": "code",
   "execution_count": 17,
   "metadata": {},
   "outputs": [],
   "source": [
    "EPOCHS = 200\n",
    "BATCH_SIZE = 1\n",
    "LEARNING_RATE = 0.0001\n",
    "NUM_FEATURES = 1"
   ]
  },
  {
   "cell_type": "code",
   "execution_count": 18,
   "metadata": {},
   "outputs": [
    {
     "name": "stdout",
     "output_type": "stream",
     "text": [
      "MultipleRegression(\n",
      "  (layer_1): Linear(in_features=1, out_features=8, bias=True)\n",
      "  (layer_out): Linear(in_features=8, out_features=1, bias=True)\n",
      "  (relu): ReLU()\n",
      ")\n"
     ]
    },
    {
     "ename": "NameError",
     "evalue": "name 'nn' is not defined",
     "output_type": "error",
     "traceback": [
      "\u001b[1;31m---------------------------------------------------------------------------\u001b[0m",
      "\u001b[1;31mNameError\u001b[0m                                 Traceback (most recent call last)",
      "\u001b[1;32md:\\Fetch_ML\\trial.ipynb Cell 11\u001b[0m line \u001b[0;36m4\n\u001b[0;32m      <a href='vscode-notebook-cell:/d%3A/Fetch_ML/trial.ipynb#X12sZmlsZQ%3D%3D?line=1'>2</a>\u001b[0m model\u001b[39m.\u001b[39mto(device)\n\u001b[0;32m      <a href='vscode-notebook-cell:/d%3A/Fetch_ML/trial.ipynb#X12sZmlsZQ%3D%3D?line=2'>3</a>\u001b[0m \u001b[39mprint\u001b[39m(model)\n\u001b[1;32m----> <a href='vscode-notebook-cell:/d%3A/Fetch_ML/trial.ipynb#X12sZmlsZQ%3D%3D?line=3'>4</a>\u001b[0m criterion \u001b[39m=\u001b[39m nn\u001b[39m.\u001b[39mMSELoss()\n\u001b[0;32m      <a href='vscode-notebook-cell:/d%3A/Fetch_ML/trial.ipynb#X12sZmlsZQ%3D%3D?line=4'>5</a>\u001b[0m optimizer \u001b[39m=\u001b[39m optim\u001b[39m.\u001b[39mAdam(model\u001b[39m.\u001b[39mparameters(), lr\u001b[39m=\u001b[39mLEARNING_RATE)\n",
      "\u001b[1;31mNameError\u001b[0m: name 'nn' is not defined"
     ]
    }
   ],
   "source": [
    "model = MultipleRegression(NUM_FEATURES)\n",
    "model.to(device)\n",
    "print(model)\n",
    "criterion = nn.MSELoss()\n",
    "optimizer = optim.Adam(model.parameters(), lr=LEARNING_RATE)"
   ]
  },
  {
   "cell_type": "code",
   "execution_count": 34,
   "metadata": {},
   "outputs": [],
   "source": [
    "# import numpy as np\n",
    "# import calendar as cl\n",
    "# from datetime import datetime, date\n",
    "\n",
    "# def prediction_input(day_dict):\n",
    "#     prev = 365 \n",
    "#     next = 365\n",
    "#     for i in range(1,13):\n",
    "#         next += cl.monthrange(2022, i)[1]\n",
    "#         day_dict[cl.month_name[i].lower()] = [[x, i, date(2022, i ,x-prev+1).timetuple().tm_wday] for x in range(prev,next)]\n",
    "#         prev = next"
   ]
  },
  {
   "cell_type": "code",
   "execution_count": 4,
   "metadata": {},
   "outputs": [],
   "source": [
    "from pred_in import prediction_input"
   ]
  },
  {
   "cell_type": "code",
   "execution_count": 5,
   "metadata": {},
   "outputs": [],
   "source": [
    "day_dict = prediction_input()"
   ]
  },
  {
   "cell_type": "code",
   "execution_count": 6,
   "metadata": {},
   "outputs": [
    {
     "data": {
      "text/plain": [
       "{'january': [[365, 1, 5],\n",
       "  [366, 1, 6],\n",
       "  [367, 1, 0],\n",
       "  [368, 1, 1],\n",
       "  [369, 1, 2],\n",
       "  [370, 1, 3],\n",
       "  [371, 1, 4],\n",
       "  [372, 1, 5],\n",
       "  [373, 1, 6],\n",
       "  [374, 1, 0],\n",
       "  [375, 1, 1],\n",
       "  [376, 1, 2],\n",
       "  [377, 1, 3],\n",
       "  [378, 1, 4],\n",
       "  [379, 1, 5],\n",
       "  [380, 1, 6],\n",
       "  [381, 1, 0],\n",
       "  [382, 1, 1],\n",
       "  [383, 1, 2],\n",
       "  [384, 1, 3],\n",
       "  [385, 1, 4],\n",
       "  [386, 1, 5],\n",
       "  [387, 1, 6],\n",
       "  [388, 1, 0],\n",
       "  [389, 1, 1],\n",
       "  [390, 1, 2],\n",
       "  [391, 1, 3],\n",
       "  [392, 1, 4],\n",
       "  [393, 1, 5],\n",
       "  [394, 1, 6],\n",
       "  [395, 1, 0]],\n",
       " 'february': [[396, 2, 1],\n",
       "  [397, 2, 2],\n",
       "  [398, 2, 3],\n",
       "  [399, 2, 4],\n",
       "  [400, 2, 5],\n",
       "  [401, 2, 6],\n",
       "  [402, 2, 0],\n",
       "  [403, 2, 1],\n",
       "  [404, 2, 2],\n",
       "  [405, 2, 3],\n",
       "  [406, 2, 4],\n",
       "  [407, 2, 5],\n",
       "  [408, 2, 6],\n",
       "  [409, 2, 0],\n",
       "  [410, 2, 1],\n",
       "  [411, 2, 2],\n",
       "  [412, 2, 3],\n",
       "  [413, 2, 4],\n",
       "  [414, 2, 5],\n",
       "  [415, 2, 6],\n",
       "  [416, 2, 0],\n",
       "  [417, 2, 1],\n",
       "  [418, 2, 2],\n",
       "  [419, 2, 3],\n",
       "  [420, 2, 4],\n",
       "  [421, 2, 5],\n",
       "  [422, 2, 6],\n",
       "  [423, 2, 0]],\n",
       " 'march': [[424, 3, 1],\n",
       "  [425, 3, 2],\n",
       "  [426, 3, 3],\n",
       "  [427, 3, 4],\n",
       "  [428, 3, 5],\n",
       "  [429, 3, 6],\n",
       "  [430, 3, 0],\n",
       "  [431, 3, 1],\n",
       "  [432, 3, 2],\n",
       "  [433, 3, 3],\n",
       "  [434, 3, 4],\n",
       "  [435, 3, 5],\n",
       "  [436, 3, 6],\n",
       "  [437, 3, 0],\n",
       "  [438, 3, 1],\n",
       "  [439, 3, 2],\n",
       "  [440, 3, 3],\n",
       "  [441, 3, 4],\n",
       "  [442, 3, 5],\n",
       "  [443, 3, 6],\n",
       "  [444, 3, 0],\n",
       "  [445, 3, 1],\n",
       "  [446, 3, 2],\n",
       "  [447, 3, 3],\n",
       "  [448, 3, 4],\n",
       "  [449, 3, 5],\n",
       "  [450, 3, 6],\n",
       "  [451, 3, 0],\n",
       "  [452, 3, 1],\n",
       "  [453, 3, 2],\n",
       "  [454, 3, 3]],\n",
       " 'april': [[455, 4, 4],\n",
       "  [456, 4, 5],\n",
       "  [457, 4, 6],\n",
       "  [458, 4, 0],\n",
       "  [459, 4, 1],\n",
       "  [460, 4, 2],\n",
       "  [461, 4, 3],\n",
       "  [462, 4, 4],\n",
       "  [463, 4, 5],\n",
       "  [464, 4, 6],\n",
       "  [465, 4, 0],\n",
       "  [466, 4, 1],\n",
       "  [467, 4, 2],\n",
       "  [468, 4, 3],\n",
       "  [469, 4, 4],\n",
       "  [470, 4, 5],\n",
       "  [471, 4, 6],\n",
       "  [472, 4, 0],\n",
       "  [473, 4, 1],\n",
       "  [474, 4, 2],\n",
       "  [475, 4, 3],\n",
       "  [476, 4, 4],\n",
       "  [477, 4, 5],\n",
       "  [478, 4, 6],\n",
       "  [479, 4, 0],\n",
       "  [480, 4, 1],\n",
       "  [481, 4, 2],\n",
       "  [482, 4, 3],\n",
       "  [483, 4, 4],\n",
       "  [484, 4, 5]],\n",
       " 'may': [[485, 5, 6],\n",
       "  [486, 5, 0],\n",
       "  [487, 5, 1],\n",
       "  [488, 5, 2],\n",
       "  [489, 5, 3],\n",
       "  [490, 5, 4],\n",
       "  [491, 5, 5],\n",
       "  [492, 5, 6],\n",
       "  [493, 5, 0],\n",
       "  [494, 5, 1],\n",
       "  [495, 5, 2],\n",
       "  [496, 5, 3],\n",
       "  [497, 5, 4],\n",
       "  [498, 5, 5],\n",
       "  [499, 5, 6],\n",
       "  [500, 5, 0],\n",
       "  [501, 5, 1],\n",
       "  [502, 5, 2],\n",
       "  [503, 5, 3],\n",
       "  [504, 5, 4],\n",
       "  [505, 5, 5],\n",
       "  [506, 5, 6],\n",
       "  [507, 5, 0],\n",
       "  [508, 5, 1],\n",
       "  [509, 5, 2],\n",
       "  [510, 5, 3],\n",
       "  [511, 5, 4],\n",
       "  [512, 5, 5],\n",
       "  [513, 5, 6],\n",
       "  [514, 5, 0],\n",
       "  [515, 5, 1]],\n",
       " 'june': [[516, 6, 2],\n",
       "  [517, 6, 3],\n",
       "  [518, 6, 4],\n",
       "  [519, 6, 5],\n",
       "  [520, 6, 6],\n",
       "  [521, 6, 0],\n",
       "  [522, 6, 1],\n",
       "  [523, 6, 2],\n",
       "  [524, 6, 3],\n",
       "  [525, 6, 4],\n",
       "  [526, 6, 5],\n",
       "  [527, 6, 6],\n",
       "  [528, 6, 0],\n",
       "  [529, 6, 1],\n",
       "  [530, 6, 2],\n",
       "  [531, 6, 3],\n",
       "  [532, 6, 4],\n",
       "  [533, 6, 5],\n",
       "  [534, 6, 6],\n",
       "  [535, 6, 0],\n",
       "  [536, 6, 1],\n",
       "  [537, 6, 2],\n",
       "  [538, 6, 3],\n",
       "  [539, 6, 4],\n",
       "  [540, 6, 5],\n",
       "  [541, 6, 6],\n",
       "  [542, 6, 0],\n",
       "  [543, 6, 1],\n",
       "  [544, 6, 2],\n",
       "  [545, 6, 3]],\n",
       " 'july': [[546, 7, 4],\n",
       "  [547, 7, 5],\n",
       "  [548, 7, 6],\n",
       "  [549, 7, 0],\n",
       "  [550, 7, 1],\n",
       "  [551, 7, 2],\n",
       "  [552, 7, 3],\n",
       "  [553, 7, 4],\n",
       "  [554, 7, 5],\n",
       "  [555, 7, 6],\n",
       "  [556, 7, 0],\n",
       "  [557, 7, 1],\n",
       "  [558, 7, 2],\n",
       "  [559, 7, 3],\n",
       "  [560, 7, 4],\n",
       "  [561, 7, 5],\n",
       "  [562, 7, 6],\n",
       "  [563, 7, 0],\n",
       "  [564, 7, 1],\n",
       "  [565, 7, 2],\n",
       "  [566, 7, 3],\n",
       "  [567, 7, 4],\n",
       "  [568, 7, 5],\n",
       "  [569, 7, 6],\n",
       "  [570, 7, 0],\n",
       "  [571, 7, 1],\n",
       "  [572, 7, 2],\n",
       "  [573, 7, 3],\n",
       "  [574, 7, 4],\n",
       "  [575, 7, 5],\n",
       "  [576, 7, 6]],\n",
       " 'august': [[577, 8, 0],\n",
       "  [578, 8, 1],\n",
       "  [579, 8, 2],\n",
       "  [580, 8, 3],\n",
       "  [581, 8, 4],\n",
       "  [582, 8, 5],\n",
       "  [583, 8, 6],\n",
       "  [584, 8, 0],\n",
       "  [585, 8, 1],\n",
       "  [586, 8, 2],\n",
       "  [587, 8, 3],\n",
       "  [588, 8, 4],\n",
       "  [589, 8, 5],\n",
       "  [590, 8, 6],\n",
       "  [591, 8, 0],\n",
       "  [592, 8, 1],\n",
       "  [593, 8, 2],\n",
       "  [594, 8, 3],\n",
       "  [595, 8, 4],\n",
       "  [596, 8, 5],\n",
       "  [597, 8, 6],\n",
       "  [598, 8, 0],\n",
       "  [599, 8, 1],\n",
       "  [600, 8, 2],\n",
       "  [601, 8, 3],\n",
       "  [602, 8, 4],\n",
       "  [603, 8, 5],\n",
       "  [604, 8, 6],\n",
       "  [605, 8, 0],\n",
       "  [606, 8, 1],\n",
       "  [607, 8, 2]],\n",
       " 'september': [[608, 9, 3],\n",
       "  [609, 9, 4],\n",
       "  [610, 9, 5],\n",
       "  [611, 9, 6],\n",
       "  [612, 9, 0],\n",
       "  [613, 9, 1],\n",
       "  [614, 9, 2],\n",
       "  [615, 9, 3],\n",
       "  [616, 9, 4],\n",
       "  [617, 9, 5],\n",
       "  [618, 9, 6],\n",
       "  [619, 9, 0],\n",
       "  [620, 9, 1],\n",
       "  [621, 9, 2],\n",
       "  [622, 9, 3],\n",
       "  [623, 9, 4],\n",
       "  [624, 9, 5],\n",
       "  [625, 9, 6],\n",
       "  [626, 9, 0],\n",
       "  [627, 9, 1],\n",
       "  [628, 9, 2],\n",
       "  [629, 9, 3],\n",
       "  [630, 9, 4],\n",
       "  [631, 9, 5],\n",
       "  [632, 9, 6],\n",
       "  [633, 9, 0],\n",
       "  [634, 9, 1],\n",
       "  [635, 9, 2],\n",
       "  [636, 9, 3],\n",
       "  [637, 9, 4]],\n",
       " 'october': [[638, 10, 5],\n",
       "  [639, 10, 6],\n",
       "  [640, 10, 0],\n",
       "  [641, 10, 1],\n",
       "  [642, 10, 2],\n",
       "  [643, 10, 3],\n",
       "  [644, 10, 4],\n",
       "  [645, 10, 5],\n",
       "  [646, 10, 6],\n",
       "  [647, 10, 0],\n",
       "  [648, 10, 1],\n",
       "  [649, 10, 2],\n",
       "  [650, 10, 3],\n",
       "  [651, 10, 4],\n",
       "  [652, 10, 5],\n",
       "  [653, 10, 6],\n",
       "  [654, 10, 0],\n",
       "  [655, 10, 1],\n",
       "  [656, 10, 2],\n",
       "  [657, 10, 3],\n",
       "  [658, 10, 4],\n",
       "  [659, 10, 5],\n",
       "  [660, 10, 6],\n",
       "  [661, 10, 0],\n",
       "  [662, 10, 1],\n",
       "  [663, 10, 2],\n",
       "  [664, 10, 3],\n",
       "  [665, 10, 4],\n",
       "  [666, 10, 5],\n",
       "  [667, 10, 6],\n",
       "  [668, 10, 0]],\n",
       " 'november': [[669, 11, 1],\n",
       "  [670, 11, 2],\n",
       "  [671, 11, 3],\n",
       "  [672, 11, 4],\n",
       "  [673, 11, 5],\n",
       "  [674, 11, 6],\n",
       "  [675, 11, 0],\n",
       "  [676, 11, 1],\n",
       "  [677, 11, 2],\n",
       "  [678, 11, 3],\n",
       "  [679, 11, 4],\n",
       "  [680, 11, 5],\n",
       "  [681, 11, 6],\n",
       "  [682, 11, 0],\n",
       "  [683, 11, 1],\n",
       "  [684, 11, 2],\n",
       "  [685, 11, 3],\n",
       "  [686, 11, 4],\n",
       "  [687, 11, 5],\n",
       "  [688, 11, 6],\n",
       "  [689, 11, 0],\n",
       "  [690, 11, 1],\n",
       "  [691, 11, 2],\n",
       "  [692, 11, 3],\n",
       "  [693, 11, 4],\n",
       "  [694, 11, 5],\n",
       "  [695, 11, 6],\n",
       "  [696, 11, 0],\n",
       "  [697, 11, 1],\n",
       "  [698, 11, 2]],\n",
       " 'december': [[699, 12, 3],\n",
       "  [700, 12, 4],\n",
       "  [701, 12, 5],\n",
       "  [702, 12, 6],\n",
       "  [703, 12, 0],\n",
       "  [704, 12, 1],\n",
       "  [705, 12, 2],\n",
       "  [706, 12, 3],\n",
       "  [707, 12, 4],\n",
       "  [708, 12, 5],\n",
       "  [709, 12, 6],\n",
       "  [710, 12, 0],\n",
       "  [711, 12, 1],\n",
       "  [712, 12, 2],\n",
       "  [713, 12, 3],\n",
       "  [714, 12, 4],\n",
       "  [715, 12, 5],\n",
       "  [716, 12, 6],\n",
       "  [717, 12, 0],\n",
       "  [718, 12, 1],\n",
       "  [719, 12, 2],\n",
       "  [720, 12, 3],\n",
       "  [721, 12, 4],\n",
       "  [722, 12, 5],\n",
       "  [723, 12, 6],\n",
       "  [724, 12, 0],\n",
       "  [725, 12, 1],\n",
       "  [726, 12, 2],\n",
       "  [727, 12, 3],\n",
       "  [728, 12, 4],\n",
       "  [729, 12, 5]]}"
      ]
     },
     "execution_count": 6,
     "metadata": {},
     "output_type": "execute_result"
    }
   ],
   "source": [
    "day_dict"
   ]
  },
  {
   "cell_type": "code",
   "execution_count": 39,
   "metadata": {},
   "outputs": [
    {
     "data": {
      "text/plain": [
       "time.struct_time(tm_year=2022, tm_mon=1, tm_mday=1, tm_hour=0, tm_min=0, tm_sec=0, tm_wday=5, tm_yday=1, tm_isdst=-1)"
      ]
     },
     "execution_count": 39,
     "metadata": {},
     "output_type": "execute_result"
    }
   ],
   "source": [
    "date(2022,1,1).timetuple()"
   ]
  },
  {
   "cell_type": "code",
   "execution_count": 2,
   "metadata": {},
   "outputs": [],
   "source": [
    "model = torch.jit.load('model_scripted.pt', map_location= torch.device(\"cpu\"))\n",
    "model.eval()\n",
    "scaler = pickle.load(open('scalerx.pkl', 'rb'))\n",
    "scaler1 = pickle.load(open('scalery.pkl', 'rb'))"
   ]
  },
  {
   "cell_type": "code",
   "execution_count": 16,
   "metadata": {},
   "outputs": [],
   "source": [
    "a = torch.tensor(scaler.transform(np.array([4,1,1]).reshape(1,-1)), dtype=torch.float32).to(device='cpu')"
   ]
  },
  {
   "cell_type": "code",
   "execution_count": 17,
   "metadata": {},
   "outputs": [],
   "source": [
    "b = model(a).detach().numpy()\n",
    "prediction = scaler1.inverse_transform(b.reshape(-1,1))"
   ]
  },
  {
   "cell_type": "code",
   "execution_count": 18,
   "metadata": {},
   "outputs": [
    {
     "data": {
      "text/plain": [
       "array([[7687619.]], dtype=float32)"
      ]
     },
     "execution_count": 18,
     "metadata": {},
     "output_type": "execute_result"
    }
   ],
   "source": [
    "prediction"
   ]
  },
  {
   "cell_type": "code",
   "execution_count": 19,
   "metadata": {},
   "outputs": [
    {
     "data": {
      "text/plain": [
       "tensor([[0.0110, 0.0000, 0.1667]])"
      ]
     },
     "execution_count": 19,
     "metadata": {},
     "output_type": "execute_result"
    }
   ],
   "source": [
    "a"
   ]
  },
  {
   "cell_type": "code",
   "execution_count": null,
   "metadata": {},
   "outputs": [],
   "source": []
  }
 ],
 "metadata": {
  "kernelspec": {
   "display_name": "base",
   "language": "python",
   "name": "python3"
  },
  "language_info": {
   "codemirror_mode": {
    "name": "ipython",
    "version": 3
   },
   "file_extension": ".py",
   "mimetype": "text/x-python",
   "name": "python",
   "nbconvert_exporter": "python",
   "pygments_lexer": "ipython3",
   "version": "3.11.5"
  }
 },
 "nbformat": 4,
 "nbformat_minor": 2
}

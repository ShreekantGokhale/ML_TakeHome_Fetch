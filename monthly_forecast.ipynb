{
 "cells": [
  {
   "cell_type": "code",
   "execution_count": 1,
   "metadata": {},
   "outputs": [],
   "source": [
    "# import pandas as pd\n",
    "# import numpy as np\n",
    "\n",
    "# # load all data\n",
    "# data = pd.read_csv('./household_power_consumption.txt',\n",
    "#     sep=';', header=0, low_memory=False,\n",
    "#     infer_datetime_format=True,\n",
    "#     parse_dates={'datetime':[0,1]},\n",
    "#     index_col=['datetime']\n",
    "# )\n",
    "\n",
    "# # mark all missing values\n",
    "# data.replace('?', np.nan, inplace=True)\n",
    "# # make dataset numeric\n",
    "# dataset = data.astype('float32')\n",
    "\n",
    "# # fill missing values with a value at the same time one day ago\n",
    "# def fill_missing(values):\n",
    "# \tone_day = 60 * 24\n",
    "# \tfor row in range(values.shape[0]):\n",
    "# \t\tfor col in range(values.shape[1]):\n",
    "# \t\t\tif np.isnan(values[row, col]):\n",
    "# \t\t\t\tvalues[row, col] = values[row - one_day, col]\n",
    "\n",
    "# # fill missing\n",
    "# fill_missing(dataset.values)\n",
    "\n",
    "# # add a column for for the remainder of sub metering\n",
    "# values = dataset.values\n",
    "# dataset['sub_metering_4']=(values[:,0]*1000/60)-(values[:,4]+values[:,5]+values[:,6])\n",
    "\n",
    "# # write new df to csv\n",
    "# dataset.to_csv('household_power_consumption.csv')"
   ]
  },
  {
   "cell_type": "code",
   "execution_count": 2,
   "metadata": {},
   "outputs": [],
   "source": [
    "# import pandas as pd\n",
    "# import numpy as np\n",
    "\n",
    "# # # load all data\n",
    "# data = pd.read_csv('data_daily.csv')\n",
    "# # data.index = data['# Date']\n",
    "# # data.index = pd.to_datetime(data.index)\n",
    "# data = data.drop('# Date', axis= 1)"
   ]
  },
  {
   "cell_type": "code",
   "execution_count": 3,
   "metadata": {},
   "outputs": [],
   "source": [
    "# data"
   ]
  },
  {
   "cell_type": "code",
   "execution_count": 4,
   "metadata": {},
   "outputs": [],
   "source": [
    "# from sklearn.datasets import fetch_california_housing\n",
    " \n",
    "# data = fetch_california_housing()\n",
    "# print(data.feature_names)\n",
    " \n",
    "# X, y = data.data, data.target"
   ]
  },
  {
   "cell_type": "code",
   "execution_count": 5,
   "metadata": {},
   "outputs": [],
   "source": [
    "# import torch.nn as nn\n",
    " \n",
    "# # Define the model\n",
    "# model = nn.Sequential(\n",
    "#     nn.Linear(1, 24),\n",
    "#     nn.ReLU(),\n",
    "#     nn.Linear(24, 12),\n",
    "#     nn.ReLU(),\n",
    "#     nn.Linear(12, 6),\n",
    "#     nn.ReLU(),\n",
    "#     nn.Linear(6, 1)\n",
    "# )"
   ]
  },
  {
   "cell_type": "code",
   "execution_count": 6,
   "metadata": {},
   "outputs": [],
   "source": [
    "\n",
    "# import torch.nn as nn\n",
    "# import torch.optim as optim\n",
    " \n",
    "# # loss function and optimizer\n",
    "# loss_fn = nn.MSELoss()  # mean square error\n",
    "# optimizer = optim.Adam(model.parameters(), lr=0.0001)"
   ]
  },
  {
   "cell_type": "code",
   "execution_count": 7,
   "metadata": {},
   "outputs": [],
   "source": [
    "# import copy\n",
    "# import numpy as np\n",
    "# import torch\n",
    "# import tqdm\n",
    "# from sklearn.model_selection import train_test_split\n",
    " \n",
    "# # train-test split of the dataset\n",
    "# X_train, X_test, y_train, y_test = train_test_split(torch.tensor(data.index).reshape(-1,1), torch.tensor(data['Receipt_Count']).reshape(-1,1), train_size=0.7, shuffle=True)\n",
    "# # X_train, X_test, y_train, y_test = train_test_split(X, y, train_size=0.7, shuffle=True)\n",
    "# X_train = torch.tensor(X_train, dtype=torch.float32)\n",
    "# y_train = torch.tensor(y_train, dtype=torch.float32).reshape(-1, 1)\n",
    "# X_test = torch.tensor(X_test, dtype=torch.float32)\n",
    "# y_test = torch.tensor(y_test, dtype=torch.float32).reshape(-1, 1)\n",
    " \n",
    "# # training parameters\n",
    "# n_epochs = 100   # number of epochs to run\n",
    "# batch_size = 5  # size of each batch\n",
    "# batch_start = torch.arange(0, len(X_train), batch_size)\n",
    " \n",
    "# # Hold the best model\n",
    "# best_mse = np.inf   # init to infinity\n",
    "# best_weights = None\n",
    "# history = []\n",
    " \n",
    "# # training loop\n",
    "# for epoch in range(n_epochs):\n",
    "#     model.train()\n",
    "#     with tqdm.tqdm(batch_start, unit=\"batch\", mininterval=0, disable=True) as bar:\n",
    "#         bar.set_description(f\"Epoch {epoch}\")\n",
    "#         for start in bar:\n",
    "#             # take a batch\n",
    "#             X_batch = X_train[start:start+batch_size]\n",
    "#             y_batch = y_train[start:start+batch_size]\n",
    "#             # forward pass\n",
    "#             # print(X_batch.shape)\n",
    "#             y_pred = model(X_batch)\n",
    "#             loss = loss_fn(y_pred, y_batch)\n",
    "#             # backward pass\n",
    "#             optimizer.zero_grad()\n",
    "#             loss.backward()\n",
    "#             # update weights\n",
    "#             optimizer.step()\n",
    "#             # print progress\n",
    "#             bar.set_postfix(mse=float(loss))\n",
    "#     # evaluate accuracy at end of each epoch\n",
    "#     model.eval()\n",
    "#     y_pred = model(X_test)\n",
    "#     mse = loss_fn(y_pred, y_test)\n",
    "#     mse = float(mse)\n",
    "#     history.append(mse)\n",
    "#     if abs(mse-best_mse)<0.00005:\n",
    "#         break\n",
    "#     if mse < best_mse:\n",
    "#         best_mse = mse\n",
    "#         best_weights = copy.deepcopy(model.state_dict())\n",
    " \n",
    "# # restore model and return best accuracy\n",
    "# model.load_state_dict(best_weights)"
   ]
  },
  {
   "cell_type": "code",
   "execution_count": 8,
   "metadata": {},
   "outputs": [],
   "source": [
    "\n",
    "# print(\"MSE: %.2f\" % best_mse)\n",
    "# print(\"RMSE: %.2f\" % np.sqrt(best_mse))\n",
    "# # plt.plot(history)\n",
    "# # plt.show()"
   ]
  },
  {
   "cell_type": "code",
   "execution_count": null,
   "metadata": {},
   "outputs": [],
   "source": [
    "# torch.tensor(data.index).reshape(-1,1).shape"
   ]
  },
  {
   "cell_type": "code",
   "execution_count": 7,
   "metadata": {},
   "outputs": [],
   "source": [
    "from datetime import datetime, date\n",
    "def day_no(date):\n",
    "    number = date.timetuple().tm_yday - 1\n",
    "    if date.timetuple().tm_year == 2021:\n",
    "        return number\n",
    "    elif date.timetuple().tm_year == 2022:\n",
    "        return 365+number"
   ]
  },
  {
   "cell_type": "code",
   "execution_count": 18,
   "metadata": {},
   "outputs": [],
   "source": [
    "# import calendar as cl\n",
    "# # int_features = [x.lower() for x in request.form.values()]\n",
    "# day_dict = {}\n",
    "# prev = 365 \n",
    "# next = 365\n",
    "# for i in range(1,13):\n",
    "#     next += cl.monthrange(2022, i)[1]\n",
    "#     day_dict[cl.month_name[i]] = [x for x in range(prev,next)]\n",
    "#     prev = next"
   ]
  },
  {
   "cell_type": "code",
   "execution_count": 19,
   "metadata": {},
   "outputs": [
    {
     "data": {
      "text/plain": [
       "'May'"
      ]
     },
     "execution_count": 19,
     "metadata": {},
     "output_type": "execute_result"
    }
   ],
   "source": [
    "# cl.month_name[5]"
   ]
  },
  {
   "cell_type": "code",
   "execution_count": 21,
   "metadata": {},
   "outputs": [],
   "source": [
    "# day_dict"
   ]
  },
  {
   "cell_type": "code",
   "execution_count": 22,
   "metadata": {},
   "outputs": [],
   "source": [
    "month_no = {}\n",
    "for i in range(1,13):\n",
    "    month_no[cl.month_name[i].lower()] = i"
   ]
  },
  {
   "cell_type": "code",
   "execution_count": 23,
   "metadata": {},
   "outputs": [
    {
     "data": {
      "text/plain": [
       "{'january': 1,\n",
       " 'february': 2,\n",
       " 'march': 3,\n",
       " 'april': 4,\n",
       " 'may': 5,\n",
       " 'june': 6,\n",
       " 'july': 7,\n",
       " 'august': 8,\n",
       " 'september': 9,\n",
       " 'october': 10,\n",
       " 'november': 11,\n",
       " 'december': 12}"
      ]
     },
     "execution_count": 23,
     "metadata": {},
     "output_type": "execute_result"
    }
   ],
   "source": [
    "month_no"
   ]
  },
  {
   "cell_type": "code",
   "execution_count": 1,
   "metadata": {},
   "outputs": [],
   "source": [
    "from pred_in import prediction_input"
   ]
  },
  {
   "cell_type": "code",
   "execution_count": 2,
   "metadata": {},
   "outputs": [],
   "source": [
    "day_dict = prediction_input()"
   ]
  },
  {
   "cell_type": "code",
   "execution_count": 3,
   "metadata": {},
   "outputs": [
    {
     "data": {
      "text/plain": [
       "{'january': [[365, 1, 5],\n",
       "  [366, 1, 6],\n",
       "  [367, 1, 0],\n",
       "  [368, 1, 1],\n",
       "  [369, 1, 2],\n",
       "  [370, 1, 3],\n",
       "  [371, 1, 4],\n",
       "  [372, 1, 5],\n",
       "  [373, 1, 6],\n",
       "  [374, 1, 0],\n",
       "  [375, 1, 1],\n",
       "  [376, 1, 2],\n",
       "  [377, 1, 3],\n",
       "  [378, 1, 4],\n",
       "  [379, 1, 5],\n",
       "  [380, 1, 6],\n",
       "  [381, 1, 0],\n",
       "  [382, 1, 1],\n",
       "  [383, 1, 2],\n",
       "  [384, 1, 3],\n",
       "  [385, 1, 4],\n",
       "  [386, 1, 5],\n",
       "  [387, 1, 6],\n",
       "  [388, 1, 0],\n",
       "  [389, 1, 1],\n",
       "  [390, 1, 2],\n",
       "  [391, 1, 3],\n",
       "  [392, 1, 4],\n",
       "  [393, 1, 5],\n",
       "  [394, 1, 6],\n",
       "  [395, 1, 0]],\n",
       " 'february': [[396, 2, 1],\n",
       "  [397, 2, 2],\n",
       "  [398, 2, 3],\n",
       "  [399, 2, 4],\n",
       "  [400, 2, 5],\n",
       "  [401, 2, 6],\n",
       "  [402, 2, 0],\n",
       "  [403, 2, 1],\n",
       "  [404, 2, 2],\n",
       "  [405, 2, 3],\n",
       "  [406, 2, 4],\n",
       "  [407, 2, 5],\n",
       "  [408, 2, 6],\n",
       "  [409, 2, 0],\n",
       "  [410, 2, 1],\n",
       "  [411, 2, 2],\n",
       "  [412, 2, 3],\n",
       "  [413, 2, 4],\n",
       "  [414, 2, 5],\n",
       "  [415, 2, 6],\n",
       "  [416, 2, 0],\n",
       "  [417, 2, 1],\n",
       "  [418, 2, 2],\n",
       "  [419, 2, 3],\n",
       "  [420, 2, 4],\n",
       "  [421, 2, 5],\n",
       "  [422, 2, 6],\n",
       "  [423, 2, 0]],\n",
       " 'march': [[424, 3, 1],\n",
       "  [425, 3, 2],\n",
       "  [426, 3, 3],\n",
       "  [427, 3, 4],\n",
       "  [428, 3, 5],\n",
       "  [429, 3, 6],\n",
       "  [430, 3, 0],\n",
       "  [431, 3, 1],\n",
       "  [432, 3, 2],\n",
       "  [433, 3, 3],\n",
       "  [434, 3, 4],\n",
       "  [435, 3, 5],\n",
       "  [436, 3, 6],\n",
       "  [437, 3, 0],\n",
       "  [438, 3, 1],\n",
       "  [439, 3, 2],\n",
       "  [440, 3, 3],\n",
       "  [441, 3, 4],\n",
       "  [442, 3, 5],\n",
       "  [443, 3, 6],\n",
       "  [444, 3, 0],\n",
       "  [445, 3, 1],\n",
       "  [446, 3, 2],\n",
       "  [447, 3, 3],\n",
       "  [448, 3, 4],\n",
       "  [449, 3, 5],\n",
       "  [450, 3, 6],\n",
       "  [451, 3, 0],\n",
       "  [452, 3, 1],\n",
       "  [453, 3, 2],\n",
       "  [454, 3, 3]],\n",
       " 'april': [[455, 4, 4],\n",
       "  [456, 4, 5],\n",
       "  [457, 4, 6],\n",
       "  [458, 4, 0],\n",
       "  [459, 4, 1],\n",
       "  [460, 4, 2],\n",
       "  [461, 4, 3],\n",
       "  [462, 4, 4],\n",
       "  [463, 4, 5],\n",
       "  [464, 4, 6],\n",
       "  [465, 4, 0],\n",
       "  [466, 4, 1],\n",
       "  [467, 4, 2],\n",
       "  [468, 4, 3],\n",
       "  [469, 4, 4],\n",
       "  [470, 4, 5],\n",
       "  [471, 4, 6],\n",
       "  [472, 4, 0],\n",
       "  [473, 4, 1],\n",
       "  [474, 4, 2],\n",
       "  [475, 4, 3],\n",
       "  [476, 4, 4],\n",
       "  [477, 4, 5],\n",
       "  [478, 4, 6],\n",
       "  [479, 4, 0],\n",
       "  [480, 4, 1],\n",
       "  [481, 4, 2],\n",
       "  [482, 4, 3],\n",
       "  [483, 4, 4],\n",
       "  [484, 4, 5]],\n",
       " 'may': [[485, 5, 6],\n",
       "  [486, 5, 0],\n",
       "  [487, 5, 1],\n",
       "  [488, 5, 2],\n",
       "  [489, 5, 3],\n",
       "  [490, 5, 4],\n",
       "  [491, 5, 5],\n",
       "  [492, 5, 6],\n",
       "  [493, 5, 0],\n",
       "  [494, 5, 1],\n",
       "  [495, 5, 2],\n",
       "  [496, 5, 3],\n",
       "  [497, 5, 4],\n",
       "  [498, 5, 5],\n",
       "  [499, 5, 6],\n",
       "  [500, 5, 0],\n",
       "  [501, 5, 1],\n",
       "  [502, 5, 2],\n",
       "  [503, 5, 3],\n",
       "  [504, 5, 4],\n",
       "  [505, 5, 5],\n",
       "  [506, 5, 6],\n",
       "  [507, 5, 0],\n",
       "  [508, 5, 1],\n",
       "  [509, 5, 2],\n",
       "  [510, 5, 3],\n",
       "  [511, 5, 4],\n",
       "  [512, 5, 5],\n",
       "  [513, 5, 6],\n",
       "  [514, 5, 0],\n",
       "  [515, 5, 1]],\n",
       " 'june': [[516, 6, 2],\n",
       "  [517, 6, 3],\n",
       "  [518, 6, 4],\n",
       "  [519, 6, 5],\n",
       "  [520, 6, 6],\n",
       "  [521, 6, 0],\n",
       "  [522, 6, 1],\n",
       "  [523, 6, 2],\n",
       "  [524, 6, 3],\n",
       "  [525, 6, 4],\n",
       "  [526, 6, 5],\n",
       "  [527, 6, 6],\n",
       "  [528, 6, 0],\n",
       "  [529, 6, 1],\n",
       "  [530, 6, 2],\n",
       "  [531, 6, 3],\n",
       "  [532, 6, 4],\n",
       "  [533, 6, 5],\n",
       "  [534, 6, 6],\n",
       "  [535, 6, 0],\n",
       "  [536, 6, 1],\n",
       "  [537, 6, 2],\n",
       "  [538, 6, 3],\n",
       "  [539, 6, 4],\n",
       "  [540, 6, 5],\n",
       "  [541, 6, 6],\n",
       "  [542, 6, 0],\n",
       "  [543, 6, 1],\n",
       "  [544, 6, 2],\n",
       "  [545, 6, 3]],\n",
       " 'july': [[546, 7, 4],\n",
       "  [547, 7, 5],\n",
       "  [548, 7, 6],\n",
       "  [549, 7, 0],\n",
       "  [550, 7, 1],\n",
       "  [551, 7, 2],\n",
       "  [552, 7, 3],\n",
       "  [553, 7, 4],\n",
       "  [554, 7, 5],\n",
       "  [555, 7, 6],\n",
       "  [556, 7, 0],\n",
       "  [557, 7, 1],\n",
       "  [558, 7, 2],\n",
       "  [559, 7, 3],\n",
       "  [560, 7, 4],\n",
       "  [561, 7, 5],\n",
       "  [562, 7, 6],\n",
       "  [563, 7, 0],\n",
       "  [564, 7, 1],\n",
       "  [565, 7, 2],\n",
       "  [566, 7, 3],\n",
       "  [567, 7, 4],\n",
       "  [568, 7, 5],\n",
       "  [569, 7, 6],\n",
       "  [570, 7, 0],\n",
       "  [571, 7, 1],\n",
       "  [572, 7, 2],\n",
       "  [573, 7, 3],\n",
       "  [574, 7, 4],\n",
       "  [575, 7, 5],\n",
       "  [576, 7, 6]],\n",
       " 'august': [[577, 8, 0],\n",
       "  [578, 8, 1],\n",
       "  [579, 8, 2],\n",
       "  [580, 8, 3],\n",
       "  [581, 8, 4],\n",
       "  [582, 8, 5],\n",
       "  [583, 8, 6],\n",
       "  [584, 8, 0],\n",
       "  [585, 8, 1],\n",
       "  [586, 8, 2],\n",
       "  [587, 8, 3],\n",
       "  [588, 8, 4],\n",
       "  [589, 8, 5],\n",
       "  [590, 8, 6],\n",
       "  [591, 8, 0],\n",
       "  [592, 8, 1],\n",
       "  [593, 8, 2],\n",
       "  [594, 8, 3],\n",
       "  [595, 8, 4],\n",
       "  [596, 8, 5],\n",
       "  [597, 8, 6],\n",
       "  [598, 8, 0],\n",
       "  [599, 8, 1],\n",
       "  [600, 8, 2],\n",
       "  [601, 8, 3],\n",
       "  [602, 8, 4],\n",
       "  [603, 8, 5],\n",
       "  [604, 8, 6],\n",
       "  [605, 8, 0],\n",
       "  [606, 8, 1],\n",
       "  [607, 8, 2]],\n",
       " 'september': [[608, 9, 3],\n",
       "  [609, 9, 4],\n",
       "  [610, 9, 5],\n",
       "  [611, 9, 6],\n",
       "  [612, 9, 0],\n",
       "  [613, 9, 1],\n",
       "  [614, 9, 2],\n",
       "  [615, 9, 3],\n",
       "  [616, 9, 4],\n",
       "  [617, 9, 5],\n",
       "  [618, 9, 6],\n",
       "  [619, 9, 0],\n",
       "  [620, 9, 1],\n",
       "  [621, 9, 2],\n",
       "  [622, 9, 3],\n",
       "  [623, 9, 4],\n",
       "  [624, 9, 5],\n",
       "  [625, 9, 6],\n",
       "  [626, 9, 0],\n",
       "  [627, 9, 1],\n",
       "  [628, 9, 2],\n",
       "  [629, 9, 3],\n",
       "  [630, 9, 4],\n",
       "  [631, 9, 5],\n",
       "  [632, 9, 6],\n",
       "  [633, 9, 0],\n",
       "  [634, 9, 1],\n",
       "  [635, 9, 2],\n",
       "  [636, 9, 3],\n",
       "  [637, 9, 4]],\n",
       " 'october': [[638, 10, 5],\n",
       "  [639, 10, 6],\n",
       "  [640, 10, 0],\n",
       "  [641, 10, 1],\n",
       "  [642, 10, 2],\n",
       "  [643, 10, 3],\n",
       "  [644, 10, 4],\n",
       "  [645, 10, 5],\n",
       "  [646, 10, 6],\n",
       "  [647, 10, 0],\n",
       "  [648, 10, 1],\n",
       "  [649, 10, 2],\n",
       "  [650, 10, 3],\n",
       "  [651, 10, 4],\n",
       "  [652, 10, 5],\n",
       "  [653, 10, 6],\n",
       "  [654, 10, 0],\n",
       "  [655, 10, 1],\n",
       "  [656, 10, 2],\n",
       "  [657, 10, 3],\n",
       "  [658, 10, 4],\n",
       "  [659, 10, 5],\n",
       "  [660, 10, 6],\n",
       "  [661, 10, 0],\n",
       "  [662, 10, 1],\n",
       "  [663, 10, 2],\n",
       "  [664, 10, 3],\n",
       "  [665, 10, 4],\n",
       "  [666, 10, 5],\n",
       "  [667, 10, 6],\n",
       "  [668, 10, 0]],\n",
       " 'november': [[669, 11, 1],\n",
       "  [670, 11, 2],\n",
       "  [671, 11, 3],\n",
       "  [672, 11, 4],\n",
       "  [673, 11, 5],\n",
       "  [674, 11, 6],\n",
       "  [675, 11, 0],\n",
       "  [676, 11, 1],\n",
       "  [677, 11, 2],\n",
       "  [678, 11, 3],\n",
       "  [679, 11, 4],\n",
       "  [680, 11, 5],\n",
       "  [681, 11, 6],\n",
       "  [682, 11, 0],\n",
       "  [683, 11, 1],\n",
       "  [684, 11, 2],\n",
       "  [685, 11, 3],\n",
       "  [686, 11, 4],\n",
       "  [687, 11, 5],\n",
       "  [688, 11, 6],\n",
       "  [689, 11, 0],\n",
       "  [690, 11, 1],\n",
       "  [691, 11, 2],\n",
       "  [692, 11, 3],\n",
       "  [693, 11, 4],\n",
       "  [694, 11, 5],\n",
       "  [695, 11, 6],\n",
       "  [696, 11, 0],\n",
       "  [697, 11, 1],\n",
       "  [698, 11, 2]],\n",
       " 'december': [[699, 12, 3],\n",
       "  [700, 12, 4],\n",
       "  [701, 12, 5],\n",
       "  [702, 12, 6],\n",
       "  [703, 12, 0],\n",
       "  [704, 12, 1],\n",
       "  [705, 12, 2],\n",
       "  [706, 12, 3],\n",
       "  [707, 12, 4],\n",
       "  [708, 12, 5],\n",
       "  [709, 12, 6],\n",
       "  [710, 12, 0],\n",
       "  [711, 12, 1],\n",
       "  [712, 12, 2],\n",
       "  [713, 12, 3],\n",
       "  [714, 12, 4],\n",
       "  [715, 12, 5],\n",
       "  [716, 12, 6],\n",
       "  [717, 12, 0],\n",
       "  [718, 12, 1],\n",
       "  [719, 12, 2],\n",
       "  [720, 12, 3],\n",
       "  [721, 12, 4],\n",
       "  [722, 12, 5],\n",
       "  [723, 12, 6],\n",
       "  [724, 12, 0],\n",
       "  [725, 12, 1],\n",
       "  [726, 12, 2],\n",
       "  [727, 12, 3],\n",
       "  [728, 12, 4],\n",
       "  [729, 12, 5]]}"
      ]
     },
     "execution_count": 3,
     "metadata": {},
     "output_type": "execute_result"
    }
   ],
   "source": [
    "day_dict"
   ]
  },
  {
   "cell_type": "markdown",
   "metadata": {},
   "source": [
    "#### Regression"
   ]
  },
  {
   "cell_type": "code",
   "execution_count": 10,
   "metadata": {},
   "outputs": [],
   "source": [
    "import numpy as np\n",
    "import pandas as pd\n",
    "import seaborn as sns\n",
    "from tqdm import tqdm\n",
    "import matplotlib.pyplot as plt\n",
    "import torch\n",
    "import torch.nn as nn\n",
    "import torch.optim as optim\n",
    "from torch.utils.data import Dataset, DataLoader\n",
    "from sklearn.preprocessing import MinMaxScaler    \n",
    "from sklearn.model_selection import train_test_split\n",
    "from sklearn.metrics import mean_squared_error, r2_score"
   ]
  },
  {
   "cell_type": "code",
   "execution_count": 11,
   "metadata": {},
   "outputs": [],
   "source": [
    "# # load all data\n",
    "data = pd.read_csv('data_daily.csv')\n",
    "# data.index = data['# Date']\n",
    "# data.index = pd.to_datetime(data.index)\n",
    "data = data.drop('# Date', axis= 1)"
   ]
  },
  {
   "cell_type": "code",
   "execution_count": 12,
   "metadata": {},
   "outputs": [
    {
     "data": {
      "text/html": [
       "<div>\n",
       "<style scoped>\n",
       "    .dataframe tbody tr th:only-of-type {\n",
       "        vertical-align: middle;\n",
       "    }\n",
       "\n",
       "    .dataframe tbody tr th {\n",
       "        vertical-align: top;\n",
       "    }\n",
       "\n",
       "    .dataframe thead th {\n",
       "        text-align: right;\n",
       "    }\n",
       "</style>\n",
       "<table border=\"1\" class=\"dataframe\">\n",
       "  <thead>\n",
       "    <tr style=\"text-align: right;\">\n",
       "      <th></th>\n",
       "      <th>Receipt_Count</th>\n",
       "    </tr>\n",
       "  </thead>\n",
       "  <tbody>\n",
       "    <tr>\n",
       "      <th>0</th>\n",
       "      <td>7564766</td>\n",
       "    </tr>\n",
       "    <tr>\n",
       "      <th>1</th>\n",
       "      <td>7455524</td>\n",
       "    </tr>\n",
       "    <tr>\n",
       "      <th>2</th>\n",
       "      <td>7095414</td>\n",
       "    </tr>\n",
       "    <tr>\n",
       "      <th>3</th>\n",
       "      <td>7666163</td>\n",
       "    </tr>\n",
       "    <tr>\n",
       "      <th>4</th>\n",
       "      <td>7771289</td>\n",
       "    </tr>\n",
       "    <tr>\n",
       "      <th>...</th>\n",
       "      <td>...</td>\n",
       "    </tr>\n",
       "    <tr>\n",
       "      <th>360</th>\n",
       "      <td>10350408</td>\n",
       "    </tr>\n",
       "    <tr>\n",
       "      <th>361</th>\n",
       "      <td>10219445</td>\n",
       "    </tr>\n",
       "    <tr>\n",
       "      <th>362</th>\n",
       "      <td>10313337</td>\n",
       "    </tr>\n",
       "    <tr>\n",
       "      <th>363</th>\n",
       "      <td>10310644</td>\n",
       "    </tr>\n",
       "    <tr>\n",
       "      <th>364</th>\n",
       "      <td>10211187</td>\n",
       "    </tr>\n",
       "  </tbody>\n",
       "</table>\n",
       "<p>365 rows × 1 columns</p>\n",
       "</div>"
      ],
      "text/plain": [
       "     Receipt_Count\n",
       "0          7564766\n",
       "1          7455524\n",
       "2          7095414\n",
       "3          7666163\n",
       "4          7771289\n",
       "..             ...\n",
       "360       10350408\n",
       "361       10219445\n",
       "362       10313337\n",
       "363       10310644\n",
       "364       10211187\n",
       "\n",
       "[365 rows x 1 columns]"
      ]
     },
     "execution_count": 12,
     "metadata": {},
     "output_type": "execute_result"
    }
   ],
   "source": [
    "data"
   ]
  },
  {
   "cell_type": "code",
   "execution_count": 13,
   "metadata": {},
   "outputs": [],
   "source": [
    "# X = torch.tensor(data.index).reshape(-1,1)\n",
    "# y = torch.tensor(data['Receipt_Count']).reshape(-1,1)"
   ]
  },
  {
   "cell_type": "code",
   "execution_count": 14,
   "metadata": {},
   "outputs": [],
   "source": [
    "# Train - Test\n",
    "X_trainval, X_test, y_trainval, y_test = train_test_split(torch.tensor(data.index).reshape(-1,1), torch.tensor(data['Receipt_Count']).reshape(-1,1), test_size=0.2, random_state=69)\n",
    "# Split train into train-val\n",
    "X_train, X_val, y_train, y_val = train_test_split(X_trainval, y_trainval, test_size=0.1, random_state=21)"
   ]
  },
  {
   "cell_type": "code",
   "execution_count": 15,
   "metadata": {},
   "outputs": [],
   "source": [
    "# X_val"
   ]
  },
  {
   "cell_type": "code",
   "execution_count": 16,
   "metadata": {},
   "outputs": [],
   "source": [
    "scaler = MinMaxScaler()\n",
    "X_train = scaler.fit_transform(X_train)\n",
    "X_val = scaler.transform(X_val)\n",
    "X_test = scaler.transform(X_test)\n",
    "\n",
    "scaler1 = MinMaxScaler()\n",
    "y_train = scaler1.fit_transform(y_train)\n",
    "y_val = scaler1.transform(y_val)\n",
    "y_test = scaler1.transform(y_test)\n",
    "\n",
    "X_train, y_train = np.array(X_train), np.array(y_train)\n",
    "X_val, y_val = np.array(X_val), np.array(y_val)\n",
    "X_test, y_test = np.array(X_test), np.array(y_test)"
   ]
  },
  {
   "cell_type": "code",
   "execution_count": 17,
   "metadata": {},
   "outputs": [],
   "source": [
    "# a = scaler.transform(torch.tensor([500]).reshape(-1,1))"
   ]
  },
  {
   "cell_type": "code",
   "execution_count": 18,
   "metadata": {},
   "outputs": [],
   "source": [
    "# a"
   ]
  },
  {
   "cell_type": "code",
   "execution_count": 19,
   "metadata": {},
   "outputs": [],
   "source": [
    "# y_val"
   ]
  },
  {
   "cell_type": "code",
   "execution_count": 20,
   "metadata": {},
   "outputs": [],
   "source": [
    "y_train, y_test, y_val = y_train.astype(float), y_test.astype(float), y_val.astype(float)"
   ]
  },
  {
   "cell_type": "code",
   "execution_count": 21,
   "metadata": {},
   "outputs": [],
   "source": [
    "class RegressionDataset(Dataset):\n",
    "    \n",
    "    def __init__(self, X_data, y_data):\n",
    "        self.X_data = X_data\n",
    "        self.y_data = y_data\n",
    "        \n",
    "    def __getitem__(self, index):\n",
    "        return self.X_data[index], self.y_data[index]\n",
    "        \n",
    "    def __len__ (self):\n",
    "        return len(self.X_data)\n",
    "train_dataset = RegressionDataset(torch.from_numpy(X_train).float(), torch.from_numpy(y_train).float())\n",
    "val_dataset = RegressionDataset(torch.from_numpy(X_val).float(), torch.from_numpy(y_val).float())\n",
    "test_dataset = RegressionDataset(torch.from_numpy(X_test).float(), torch.from_numpy(y_test).float())"
   ]
  },
  {
   "cell_type": "code",
   "execution_count": 22,
   "metadata": {},
   "outputs": [],
   "source": [
    "EPOCHS = 200\n",
    "BATCH_SIZE = 1\n",
    "LEARNING_RATE = 0.0001\n",
    "NUM_FEATURES = 1 \n",
    "#len(X.columns)"
   ]
  },
  {
   "cell_type": "code",
   "execution_count": 23,
   "metadata": {},
   "outputs": [],
   "source": [
    "train_loader = DataLoader(dataset=train_dataset, batch_size=BATCH_SIZE, shuffle=True)\n",
    "val_loader = DataLoader(dataset=val_dataset, batch_size=1)\n",
    "test_loader = DataLoader(dataset=test_dataset, batch_size=1)"
   ]
  },
  {
   "cell_type": "code",
   "execution_count": 24,
   "metadata": {},
   "outputs": [],
   "source": [
    "class MultipleRegression(nn.Module):\n",
    "    def __init__(self, num_features):\n",
    "        super(MultipleRegression, self).__init__()\n",
    "        \n",
    "        self.layer_1 = nn.Linear(num_features, 1)\n",
    "        self.layer_2 = nn.Linear(1, 8)\n",
    "        # self.layer_3 = nn.Linear(1, 1)\n",
    "        self.layer_out = nn.Linear(8, 1)\n",
    "        \n",
    "        self.relu = nn.ReLU()\n",
    "    \n",
    "    def forward(self, inputs):\n",
    "        x = self.relu(self.layer_1(inputs))\n",
    "        x = self.relu(self.layer_2(x))\n",
    "        # x = self.relu(self.layer_3(x))\n",
    "        x = self.layer_out(x)\n",
    "        return (x)\n",
    "\n",
    "    def predict(self, test_inputs):\n",
    "        x = self.relu(self.layer_1(test_inputs))\n",
    "        x = self.relu(self.layer_2(x))\n",
    "        # x = self.relu(self.layer_3(x))\n",
    "        x = self.layer_out(x)\n",
    "        return (x)"
   ]
  },
  {
   "cell_type": "code",
   "execution_count": 25,
   "metadata": {},
   "outputs": [
    {
     "name": "stdout",
     "output_type": "stream",
     "text": [
      "cuda:0\n"
     ]
    }
   ],
   "source": [
    "device = torch.device(\"cuda:0\" if torch.cuda.is_available() else \"cpu\")\n",
    "print(device)"
   ]
  },
  {
   "cell_type": "code",
   "execution_count": 26,
   "metadata": {},
   "outputs": [
    {
     "name": "stdout",
     "output_type": "stream",
     "text": [
      "MultipleRegression(\n",
      "  (layer_1): Linear(in_features=1, out_features=1, bias=True)\n",
      "  (layer_2): Linear(in_features=1, out_features=8, bias=True)\n",
      "  (layer_out): Linear(in_features=8, out_features=1, bias=True)\n",
      "  (relu): ReLU()\n",
      ")\n"
     ]
    }
   ],
   "source": [
    "model = MultipleRegression(NUM_FEATURES)\n",
    "model.to(device)\n",
    "print(model)\n",
    "criterion = nn.MSELoss()\n",
    "optimizer = optim.Adam(model.parameters(), lr=LEARNING_RATE)"
   ]
  },
  {
   "cell_type": "code",
   "execution_count": 27,
   "metadata": {},
   "outputs": [],
   "source": [
    "loss_stats = {\n",
    "    'train': [],\n",
    "    \"val\": []\n",
    "}"
   ]
  },
  {
   "cell_type": "code",
   "execution_count": 28,
   "metadata": {},
   "outputs": [
    {
     "name": "stdout",
     "output_type": "stream",
     "text": [
      "Begin training.\n"
     ]
    },
    {
     "name": "stderr",
     "output_type": "stream",
     "text": [
      "  0%|          | 0/200 [00:00<?, ?it/s]c:\\ProgramData\\anaconda3\\Lib\\site-packages\\torch\\nn\\modules\\loss.py:535: UserWarning: Using a target size (torch.Size([1, 1, 1])) that is different to the input size (torch.Size([1, 1])). This will likely lead to incorrect results due to broadcasting. Please ensure they have the same size.\n",
      "  return F.mse_loss(input, target, reduction=self.reduction)\n",
      "100%|██████████| 200/200 [03:03<00:00,  1.09it/s]"
     ]
    },
    {
     "name": "stdout",
     "output_type": "stream",
     "text": [
      "Epoch 200: | Train Loss: 0.00511 | Val Loss: 0.00501\n"
     ]
    },
    {
     "name": "stderr",
     "output_type": "stream",
     "text": [
      "\n"
     ]
    }
   ],
   "source": [
    "print(\"Begin training.\")\n",
    "for e in tqdm(range(1, EPOCHS+1)):\n",
    "    \n",
    "    # TRAINING\n",
    "    train_epoch_loss = 0\n",
    "    model.train()\n",
    "    for X_train_batch, y_train_batch in train_loader:\n",
    "        X_train_batch, y_train_batch = X_train_batch.to(device), y_train_batch.to(device)\n",
    "        optimizer.zero_grad()\n",
    "        \n",
    "        y_train_pred = model(X_train_batch)\n",
    "        \n",
    "        train_loss = criterion(y_train_pred, y_train_batch.unsqueeze(1))\n",
    "        \n",
    "        train_loss.backward()\n",
    "        optimizer.step()\n",
    "        \n",
    "        train_epoch_loss += train_loss.item()\n",
    "        \n",
    "        \n",
    "    # VALIDATION    \n",
    "    with torch.no_grad():\n",
    "        \n",
    "        val_epoch_loss = 0\n",
    "        \n",
    "        model.eval()\n",
    "        for X_val_batch, y_val_batch in val_loader:\n",
    "            X_val_batch, y_val_batch = X_val_batch.to(device), y_val_batch.to(device)\n",
    "            \n",
    "            y_val_pred = model(X_val_batch)\n",
    "                        \n",
    "            val_loss = criterion(y_val_pred, y_val_batch.unsqueeze(1))\n",
    "            \n",
    "            val_epoch_loss += val_loss.item()\n",
    "    loss_stats['train'].append(train_epoch_loss/len(train_loader))\n",
    "    loss_stats['val'].append(val_epoch_loss/len(val_loader))                              \n",
    "        \n",
    "print(f'Epoch {e+0:03}: | Train Loss: {train_epoch_loss/len(train_loader):.5f} | Val Loss: {val_epoch_loss/len(val_loader):.5f}')"
   ]
  },
  {
   "cell_type": "code",
   "execution_count": 29,
   "metadata": {},
   "outputs": [
    {
     "data": {
      "text/plain": [
       "Text(0.5, 1.0, 'Train-Val Loss/Epoch')"
      ]
     },
     "execution_count": 29,
     "metadata": {},
     "output_type": "execute_result"
    },
    {
     "data": {
      "image/png": "[encoded data removed]",
      "text/plain": [
       "<Figure size 1500x800 with 1 Axes>"
      ]
     },
     "metadata": {},
     "output_type": "display_data"
    }
   ],
   "source": [
    "train_val_loss_df = pd.DataFrame.from_dict(loss_stats).reset_index().melt(id_vars=['index']).rename(columns={\"index\":\"epochs\"})\n",
    "plt.figure(figsize=(15,8))\n",
    "sns.lineplot(data=train_val_loss_df, x = \"epochs\", y=\"value\", hue=\"variable\").set_title('Train-Val Loss/Epoch')"
   ]
  },
  {
   "cell_type": "code",
   "execution_count": 30,
   "metadata": {},
   "outputs": [],
   "source": [
    "y_pred_list = []\n",
    "with torch.no_grad():\n",
    "    model.eval()\n",
    "    for X_batch, _ in test_loader:\n",
    "        X_batch = X_batch.to(device)\n",
    "        y_test_pred = model(X_batch)\n",
    "        y_pred_list.append(y_test_pred.cpu().numpy())\n",
    "y_pred_list = [a.squeeze().tolist() for a in y_pred_list]"
   ]
  },
  {
   "cell_type": "code",
   "execution_count": 31,
   "metadata": {},
   "outputs": [
    {
     "name": "stdout",
     "output_type": "stream",
     "text": [
      "Mean Squared Error : 0.006613275353713617\n",
      "R^2 : 0.9072565880423819\n"
     ]
    }
   ],
   "source": [
    "mse = mean_squared_error(y_test, y_pred_list)\n",
    "r_square = r2_score(y_test, y_pred_list)\n",
    "print(\"Mean Squared Error :\",mse)\n",
    "print(\"R^2 :\",r_square)"
   ]
  },
  {
   "cell_type": "code",
   "execution_count": 32,
   "metadata": {},
   "outputs": [],
   "source": [
    "# !pip install gradio"
   ]
  },
  {
   "cell_type": "code",
   "execution_count": 35,
   "metadata": {},
   "outputs": [],
   "source": [
    "import pickle\n",
    "pickle.dump(model, open('model.pkl','wb'))"
   ]
  },
  {
   "cell_type": "code",
   "execution_count": 46,
   "metadata": {},
   "outputs": [],
   "source": [
    "# # Loading model to compare the results\n",
    "# m = pickle.load(open('model.pkl','rb'))\n",
    "# m.eval()\n",
    "# a = torch.tensor(500).to(device)\n",
    "# print(m(a))"
   ]
  },
  {
   "cell_type": "code",
   "execution_count": 43,
   "metadata": {},
   "outputs": [],
   "source": [
    "with torch.no_grad():\n",
    "    model.eval()\n",
    "    a = torch.tensor(scaler.transform(torch.tensor([500]).reshape(-1,1)), dtype=torch.float32).to(device)\n",
    "    b = model(a)"
   ]
  },
  {
   "cell_type": "code",
   "execution_count": 44,
   "metadata": {},
   "outputs": [
    {
     "data": {
      "text/plain": [
       "tensor([[1.1166]], device='cuda:0')"
      ]
     },
     "execution_count": 44,
     "metadata": {},
     "output_type": "execute_result"
    }
   ],
   "source": [
    "b"
   ]
  },
  {
   "cell_type": "code",
   "execution_count": 45,
   "metadata": {},
   "outputs": [
    {
     "data": {
      "text/plain": [
       "array([[10698988.56380749]])"
      ]
     },
     "execution_count": 45,
     "metadata": {},
     "output_type": "execute_result"
    }
   ],
   "source": [
    "scaler1.inverse_transform(b.cpu().reshape(-1,1))"
   ]
  },
  {
   "cell_type": "code",
   "execution_count": 47,
   "metadata": {},
   "outputs": [
    {
     "name": "stdout",
     "output_type": "stream",
     "text": [
      "[[10698988.56380749]]\n"
     ]
    }
   ],
   "source": [
    "m = pickle.load(open('model.pkl','rb'))\n",
    "with torch.no_grad():\n",
    "    m.eval()\n",
    "    a = torch.tensor(scaler.transform(torch.tensor([500]).reshape(-1,1)), dtype=torch.float32).to(device)\n",
    "    b = m(a)\n",
    "print(scaler1.inverse_transform(b.cpu().reshape(-1,1)))"
   ]
  },
  {
   "cell_type": "code",
   "execution_count": 49,
   "metadata": {},
   "outputs": [],
   "source": [
    "pickle.dump(scaler, open('scalerx.pkl','wb'))\n",
    "pickle.dump(scaler1, open('scalery.pkl','wb'))"
   ]
  },
  {
   "cell_type": "code",
   "execution_count": 50,
   "metadata": {},
   "outputs": [],
   "source": [
    "model_scripted = torch.jit.script(model) # Export to TorchScript\n",
    "model_scripted.save('model_scripted.pt') # Save"
   ]
  },
  {
   "cell_type": "code",
   "execution_count": null,
   "metadata": {},
   "outputs": [],
   "source": []
  }
 ],
 "metadata": {
  "kernelspec": {
   "display_name": "Python 3",
   "language": "python",
   "name": "python3"
  },
  "language_info": {
   "codemirror_mode": {
    "name": "ipython",
    "version": 3
   },
   "file_extension": ".py",
   "mimetype": "text/x-python",
   "name": "python",
   "nbconvert_exporter": "python",
   "pygments_lexer": "ipython3",
   "version": "3.11.5"
  },
  "orig_nbformat": 4
 },
 "nbformat": 4,
 "nbformat_minor": 2
}
